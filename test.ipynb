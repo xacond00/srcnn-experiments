{
 "cells": [
  {
   "cell_type": "code",
   "execution_count": null,
   "metadata": {},
   "outputs": [],
   "source": [
    "import torch\n",
    "from torch import nn\n",
    "import numpy as np\n",
    "from torch.utils.data import DataLoader\n",
    "\n",
    "# from skimage.metrics import peak_signal_noise_ratio as psnr\n",
    "from dataset import ImageDataset\n",
    "import numpy as np\n",
    "import torch\n",
    "from ssim import ssim"
   ]
  },
  {
   "cell_type": "code",
   "execution_count": null,
   "metadata": {},
   "outputs": [],
   "source": [
    "print(torch.cuda.is_available())"
   ]
  },
  {
   "cell_type": "code",
   "execution_count": null,
   "metadata": {},
   "outputs": [],
   "source": [
    "def compute_psnr(gt, pred):\n",
    "    \"\"\"Compute Peak Signal-to-Noise Ratio (PSNR).\"\"\"\n",
    "    mse = ((gt - pred) ** 2).mean().item()\n",
    "    if mse == 0:\n",
    "        return float('inf')\n",
    "    max_pixel = 1.0  # Pokud jsou obrázky normalizované (0,1), jinak použij 255.0\n",
    "    return 10 * np.log10(max_pixel**2 / mse)\n",
    "\n",
    "def compute_ssim(gt, pred):\n",
    "    \"\"\"Compute Structural Similarity Index (SSIM).\"\"\"\n",
    "    return ssim(\n",
    "        gt, pred,\n",
    "        window_size=11,\n",
    "        in_channels=gt.shape[1],\n",
    "        L=1  # Change to 255 if your images are in the 0-255 range\n",
    "    ).item()"
   ]
  },
  {
   "cell_type": "code",
   "execution_count": null,
   "metadata": {},
   "outputs": [],
   "source": [
    "# Load models and their respective checkpoints\n",
    "def load_model(checkpoint_path):\n",
    "    checkpoint = torch.load(checkpoint_path, weights_only=False)\n",
    "    model = checkpoint['model']\n",
    "    device = torch.device(\"cuda\" if torch.cuda.is_available() else \"cpu\")\n",
    "    model = model.to(device)\n",
    "    model.eval()\n",
    "    return model\n",
    "\n",
    "def evaluate_model(model, dataloader, show_batch = 1):\n",
    "    model.eval()\n",
    "    psnr_values = []\n",
    "    ssim_values = []\n",
    "    images = None\n",
    "    for n, (lr, hr) in enumerate(dataloader):\n",
    "        lr = lr.to(next(model.parameters()).device)  # Přenos na správné zařízení\n",
    "        hr = hr.to(next(model.parameters()).device)\n",
    "\n",
    "        with torch.no_grad():\n",
    "            sr = model(lr)\n",
    "            sr = torch.clip(sr, 0, 1)\n",
    "        #sr_np = sr.squeeze(0).permute(1, 2, 0).cpu().numpy()\n",
    "        if(n == show_batch):\n",
    "            images = sr\n",
    "        psnr_values.append(compute_psnr(hr, sr))\n",
    "        ssim_values.append(compute_ssim(hr, sr))\n",
    "\n",
    "    return images, np.mean(psnr_values), np.mean(ssim_values)"
   ]
  },
  {
   "cell_type": "code",
   "execution_count": null,
   "metadata": {},
   "outputs": [],
   "source": [
    "from IPython.display import display\n",
    "from PIL import Image\n",
    "model_checkpoints = [\n",
    "    #\"./final/4x64mae_c5x2_c3x5.pth\",\n",
    "    #\"./final/4x64ssae_c5x2_c3x5.pth\",\n",
    "    #\"./final/4x96ssae_c5x2_c3x5.pth\",\n",
    "    \"./final/4x96ssae_c5x2_c3x6.pth\",\n",
    "    \"4x96ssae_c5x2_rc3x16.pth\",\n",
    "    \"./final/4x64ssae_c5x2_rc3x16.pth\",\n",
    "    \"./final/4x64ssae_c5x2_rc3x32.pth\",\n",
    "    #\"./final/4x64ssim_c5x2_c3x5.pth\",\n",
    "    #\"./final/4x64uvge_c5x2_c3x5.pth\",\n",
    "    #\"final/auxresnet_ssae.pth\",\n",
    "    #\"./final/auxresnet_ssae_nobn.pth\",\n",
    "    #\"./final/ssresnet_ssae.pth\",\n",
    "]\n",
    "scale = 4\n",
    "batch = 8\n",
    "show_batch = 5\n",
    "# Load dataset\n",
    "dataset = ImageDataset(dataset_name=\"DIV2KVal\", train=False, scale=scale, downscale=1, crop=256)\n",
    "dataloader = DataLoader(dataset, batch_size=batch, shuffle=False)\n",
    "\n",
    "# Run evaluation\n",
    "results = {}\n",
    "sr_imgs = []\n",
    "for checkpoint in model_checkpoints:\n",
    "    model = load_model(checkpoint)\n",
    "    images, mean_psnr, mean_ssim = evaluate_model(model, dataloader, show_batch)\n",
    "    sr_imgs.append(images)\n",
    "    results[checkpoint] = {\"PSNR\": mean_psnr, \"SSIM\": mean_ssim}\n",
    "    print(f\"{checkpoint}: PSNR={mean_psnr:.2f}, SSIM={mean_ssim:.4f}\")\n",
    "    \n",
    "scaler = nn.Upsample(scale_factor=scale, mode=\"bicubic\", align_corners=True)\n",
    "for n in range(batch):\n",
    "    lr, hr = dataset[n + batch * show_batch]\n",
    "    lr = scaler(lr.unsqueeze(0)).squeeze(0).permute(1, 2, 0).cpu().numpy()\n",
    "    hr = hr.permute(1, 2, 0).cpu().numpy()\n",
    "    all_imgs = [lr]\n",
    "    for sr_img in sr_imgs:\n",
    "        all_imgs.append(sr_img[n].permute(1, 2, 0).cpu().numpy())\n",
    "    all_imgs.append(hr)\n",
    "    res = np.hstack(all_imgs)\n",
    "    res = np.clip(res * 255, 0, 255).astype(np.uint8)\n",
    "    display(Image.fromarray(res, 'RGB'))\n",
    "\n",
    "# Store results\n",
    "with open(\"evaluation_results.txt\", \"w\") as f:\n",
    "    for model_name, metrics in results.items():\n",
    "        f.write(f\"{model_name}: PSNR={metrics['PSNR']:.2f}, SSIM={metrics['SSIM']:.4f}\\n\")\n",
    "\n",
    "print(\"Evaluation complete. Results saved to evaluation_results.txt\")"
   ]
  },
  {
   "cell_type": "code",
   "execution_count": null,
   "metadata": {},
   "outputs": [],
   "source": []
  }
 ],
 "metadata": {
  "kernelspec": {
   "display_name": "Python 3",
   "language": "python",
   "name": "python3"
  },
  "language_info": {
   "codemirror_mode": {
    "name": "ipython",
    "version": 3
   },
   "file_extension": ".py",
   "mimetype": "text/x-python",
   "name": "python",
   "nbconvert_exporter": "python",
   "pygments_lexer": "ipython3",
   "version": "3.12.8"
  }
 },
 "nbformat": 4,
 "nbformat_minor": 4
}
